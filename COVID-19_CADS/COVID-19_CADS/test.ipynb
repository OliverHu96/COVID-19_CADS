{
 "cells": [
  {
   "cell_type": "code",
   "execution_count": 1,
   "id": "bc120b74",
   "metadata": {},
   "outputs": [],
   "source": [
    "import os\n",
    "import torch \n",
    "import torchvision \n",
    "from tqdm import tqdm\n",
    "from torchvision import transforms, datasets, models\n",
    "import numpy as np \n",
    "import pandas as pd\n",
    "import torch.nn as nn\n",
    "from torch.utils.data import DataLoader,Dataset\n",
    "import torch.utils.model_zoo as model_zoo\n",
    "import math\n",
    "import torch.nn.functional as F\n",
    "from PIL import Image\n",
    "from sklearn.metrics import roc_auc_score,f1_score,roc_curve,auc\n",
    "import matplotlib.pyplot as plt\n",
    "from models.resFPNCBAM import resnet50\n",
    "\n",
    "os.environ[\"CUDA_VISIBLE_DEVICES\"] = \"0\"\n",
    "\n",
    "#超参数的设置\n",
    "batch_size = 32\n",
    "num_workers = 8\n",
    "\n",
    "#处理设备选择\n",
    "device = torch.device(\"cuda\" if torch.cuda.is_available() else \"cpu\")\n",
    "\n",
    "#调整图片大小\n",
    "transform_test = transforms.Compose([\n",
    "    transforms.Resize([512,512]),\n",
    "    transforms.ToTensor()\n",
    "])"
   ]
  },
  {
   "cell_type": "code",
   "execution_count": 2,
   "id": "b72e6ef4",
   "metadata": {},
   "outputs": [],
   "source": [
    "class DrawConfusionMatrix:\n",
    "    def __init__(self, labels_name):\n",
    "        self.labels_name = labels_name\n",
    "        self.num_classes = len(labels_name)\n",
    "        self.matrix = np.zeros([self.num_classes,self.num_classes])\n",
    "\n",
    "    def update(self, predicts, labels):\n",
    "        for predict, label in zip(predicts, labels):\n",
    "            if predict == 1:\n",
    "                predict = 0\n",
    "            else:\n",
    "                predict = 1\n",
    "            \n",
    "            if label == 1:\n",
    "                label = 0\n",
    "            else:\n",
    "                label = 1\n",
    "            self.matrix[predict, label] += 1\n",
    "\n",
    "    def draw(self):\n",
    "        per_sum = self.matrix.sum(axis=0)  \n",
    "        \n",
    "        print(\"----------------\")\n",
    "        accuracy = (self.matrix[0,0] + self.matrix[1,1]) / self.matrix.sum()\n",
    "        sensitivity = self.matrix[0,0] /  per_sum[0]\n",
    "        specificity = self.matrix[1,1] /  per_sum[1]\n",
    "        print(\"accuracy:\"+str(accuracy))\n",
    "        print(\"sensitivity:\"+str(sensitivity))\n",
    "        print(\"specificity:\"+str(specificity))\n",
    "        print(\"----------------\")\n",
    "        \n",
    "        matrix_values = np.zeros([self.num_classes,self.num_classes])\n",
    "        \n",
    "        for i in range(self.num_classes):\n",
    "            matrix_values[:,i] = (self.matrix[:,i] * 100 / per_sum[i])  \n",
    "        \n",
    "        plt.imshow(self.matrix,cmap=plt.cm.Blues)  \n",
    "        plt.title(\"Confusion Matrix\")  # title\n",
    "        plt.xlabel(\"Ground Truth\")\n",
    "        plt.ylabel(\"Predict\")\n",
    "        plt.yticks(range(self.num_classes), self.labels_name,rotation=90)  \n",
    "        plt.xticks(range(self.num_classes), self.labels_name)  \n",
    "\n",
    "        for x in range(self.num_classes):\n",
    "            for y in range(self.num_classes):\n",
    "                value = str(float(format('%.2f' % matrix_values[y, x]))) + '%'  \n",
    "                plt.text(x, y, value, verticalalignment='center', horizontalalignment='center')  \n",
    "\n",
    "        plt.tight_layout()  \n",
    "\n",
    "        #plt.colorbar()  \n",
    "        #plt.savefig('./ConfusionMatrix.svg',format='svg')\n",
    "        #plt.savefig('./ConfusionMatrix.png', bbox_inches='tight')  \n",
    "        plt.show()"
   ]
  },
  {
   "cell_type": "code",
   "execution_count": 3,
   "id": "506efb80",
   "metadata": {},
   "outputs": [],
   "source": [
    "class CovidDataset(Dataset):\n",
    "    def __init__(self, path, transform=None):\n",
    "        df = pd.read_csv(path)\n",
    "        df = df.set_index('case')\n",
    "        self.X = list(df.index)\n",
    "        self.Y = df['type'].values.tolist()\n",
    "        self.lenth = len(self.Y)\n",
    "        self.transform = transform\n",
    "        \n",
    "    def __len__(self):\n",
    "        return self.lenth\n",
    "    \n",
    "    def __getitem__(self, index):\n",
    "        picture_path = os.path.join('./data/',self.X[index])\n",
    "        image = np.asarray(Image.open(picture_path),dtype='float32')/4095\n",
    "        image = Image.fromarray(image)\n",
    "        image = self.transform(image)\n",
    "        x = torch.Tensor(3,512,512)\n",
    "        for i in range(3):    \n",
    "            x[i,:,:]=image\n",
    "        y = self.Y[index]\n",
    "        return x,y"
   ]
  },
  {
   "cell_type": "code",
   "execution_count": 4,
   "id": "6f24c797",
   "metadata": {},
   "outputs": [],
   "source": [
    "test_loader_list = []\n",
    "for i in range(5):\n",
    "    csv_path = './CSV/test' + str(i+1) + '.csv'\n",
    "    test_dataset = CovidDataset(csv_path,transform_test)\n",
    "    test_loader = DataLoader(test_dataset, batch_size=batch_size, \n",
    "                          shuffle=False, num_workers=8, pin_memory=True)\n",
    "    test_loader_list.append(test_loader)"
   ]
  },
  {
   "cell_type": "code",
   "execution_count": 5,
   "id": "dc9a5aa5",
   "metadata": {},
   "outputs": [],
   "source": [
    "class MyModel(nn.Module):\n",
    "    def __init__(self, pretrained):\n",
    "        super(MyModel, self).__init__()\n",
    "        self.fc = nn.Linear(2*128*128, 2)\n",
    "        if pretrained:\n",
    "            self.backbone = resnet50(pretrained=True, num_classes=2)\n",
    "        else:\n",
    "            self.backbone = resnet50(pretrained=False, num_classes=2)\n",
    "\n",
    "    def forward(self, x):\n",
    "        out = self.backbone(x)\n",
    "        out = out.view(-1, 2*128*128)\n",
    "        out = self.fc(out)\n",
    "        return out"
   ]
  },
  {
   "cell_type": "code",
   "execution_count": 6,
   "id": "b53719bd",
   "metadata": {},
   "outputs": [],
   "source": [
    "model = MyModel(True)\n",
    "model = model.to(device)\n",
    "\n",
    "labels_name=['positive', 'negetive']\n",
    "confusionmatrix = DrawConfusionMatrix(labels_name)  "
   ]
  },
  {
   "cell_type": "code",
   "execution_count": 7,
   "id": "6b22877c",
   "metadata": {},
   "outputs": [
    {
     "name": "stderr",
     "output_type": "stream",
     "text": [
      "  0%|          | 0/261 [00:00<?, ?it/s]/etc/anaconda3/lib/python3.8/site-packages/torch/nn/functional.py:3487: UserWarning: nn.functional.upsample is deprecated. Use nn.functional.interpolate instead.\n",
      "  warnings.warn(\"nn.functional.upsample is deprecated. Use nn.functional.interpolate instead.\")\n",
      "/etc/anaconda3/lib/python3.8/site-packages/torch/nn/functional.py:3609: UserWarning: Default upsampling behavior when mode=bilinear is changed to align_corners=False since 0.4.0. Please specify align_corners=True if the old behavior is desired. See the documentation of nn.Upsample for details.\n",
      "  warnings.warn(\n",
      "100%|██████████| 261/261 [01:56<00:00,  2.25it/s]\n",
      "100%|██████████| 261/261 [02:00<00:00,  2.16it/s]\n",
      "100%|██████████| 261/261 [02:02<00:00,  2.13it/s]\n",
      "100%|██████████| 260/260 [02:02<00:00,  2.12it/s]\n",
      "100%|██████████| 258/258 [02:01<00:00,  2.13it/s]\n"
     ]
    },
    {
     "name": "stdout",
     "output_type": "stream",
     "text": [
      "AUC:0.9932\n",
      "F1-Score:0.8824\n",
      "----------------\n",
      "accuracy:0.985894473329482\n",
      "sensitivity:0.9636283961437335\n",
      "specificity:0.9871886302277011\n",
      "----------------\n"
     ]
    },
    {
     "data": {
      "image/png": "[encoded data removed]",
      "text/plain": [
       "<Figure size 432x288 with 1 Axes>"
      ]
     },
     "metadata": {
      "needs_background": "light"
     },
     "output_type": "display_data"
    }
   ],
   "source": [
    "prob_score_all = []\n",
    "prob_class_all = []\n",
    "label_all = []\n",
    "\n",
    "for i in range(5):\n",
    "    weight_path = './weight/' + str(i+1) + '-resFPNCBAM' + '.pth'\n",
    "    model.load_state_dict(torch.load(weight_path))\n",
    "    \n",
    "    test_loader_ = test_loader_list[i]\n",
    "\n",
    "    model.eval()\n",
    "    with torch.no_grad():\n",
    "        for imgs, targets in tqdm(test_loader_):\n",
    "            imgs = imgs.to(device)\n",
    "            targets = targets.to(device)\n",
    "            outputs = model(imgs)\n",
    "\n",
    "            #计算混淆矩阵------------------------------------------------\n",
    "            pred_np = np.argmax(outputs.cpu().detach().numpy(), axis=-1)\n",
    "            label_np = targets.cpu().detach().numpy()\n",
    "            confusionmatrix.update(pred_np, label_np)\n",
    "            #------------------------------------------------------------\n",
    "\n",
    "            prob_class_all.extend(outputs.argmax(1).cpu().numpy())\n",
    "            sm = nn.Softmax(dim=1)\n",
    "            pred = sm(outputs).cpu().numpy()\n",
    "            pred = pred[:,1]\n",
    "            prob_score_all.extend(pred)\n",
    "            label_all.extend(targets.cpu().numpy())\n",
    "\n",
    "print(\"AUC:{:.4f}\".format(roc_auc_score(label_all,prob_score_all)))\n",
    "print(\"F1-Score:{:.4f}\".format(f1_score(label_all,prob_class_all)))\n",
    "fpr, tpr, thersholds = roc_curve(label_all, prob_score_all)\n",
    "confusionmatrix.draw()"
   ]
  },
  {
   "cell_type": "code",
   "execution_count": null,
   "id": "aac1f372",
   "metadata": {},
   "outputs": [],
   "source": []
  },
  {
   "cell_type": "code",
   "execution_count": null,
   "id": "f7225636",
   "metadata": {},
   "outputs": [],
   "source": []
  },
  {
   "cell_type": "code",
   "execution_count": null,
   "id": "f9b2ee19",
   "metadata": {},
   "outputs": [],
   "source": []
  },
  {
   "cell_type": "code",
   "execution_count": null,
   "id": "c3686886",
   "metadata": {},
   "outputs": [],
   "source": []
  }
 ],
 "metadata": {
  "kernelspec": {
   "display_name": "Python 3",
   "language": "python",
   "name": "python3"
  },
  "language_info": {
   "codemirror_mode": {
    "name": "ipython",
    "version": 3
   },
   "file_extension": ".py",
   "mimetype": "text/x-python",
   "name": "python",
   "nbconvert_exporter": "python",
   "pygments_lexer": "ipython3",
   "version": "3.8.8"
  }
 },
 "nbformat": 4,
 "nbformat_minor": 5
}
